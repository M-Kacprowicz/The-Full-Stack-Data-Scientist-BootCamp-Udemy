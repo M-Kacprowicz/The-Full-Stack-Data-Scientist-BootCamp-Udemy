{
 "cells": [
  {
   "cell_type": "code",
   "execution_count": 2,
   "id": "57fab578",
   "metadata": {},
   "outputs": [],
   "source": [
    "import pandas as pd\n",
    "import numpy as np"
   ]
  },
  {
   "cell_type": "code",
   "execution_count": 3,
   "id": "0ba12069",
   "metadata": {},
   "outputs": [],
   "source": [
    "pd.Series?"
   ]
  },
  {
   "cell_type": "code",
   "execution_count": 4,
   "id": "0e600020",
   "metadata": {},
   "outputs": [],
   "source": [
    "pd.DataFrame?"
   ]
  },
  {
   "cell_type": "code",
   "execution_count": 5,
   "id": "34c2c39e",
   "metadata": {},
   "outputs": [
    {
     "data": {
      "text/plain": [
       "['Lion', 'Cat', 'Birds', 'Fish']"
      ]
     },
     "execution_count": 5,
     "metadata": {},
     "output_type": "execute_result"
    }
   ],
   "source": [
    "my_pets = ['Lion', 'Cat', 'Birds', 'Fish']\n",
    "my_pets"
   ]
  },
  {
   "cell_type": "code",
   "execution_count": 6,
   "id": "462c6abf",
   "metadata": {},
   "outputs": [
    {
     "data": {
      "text/plain": [
       "0     Lion\n",
       "1      Cat\n",
       "2    Birds\n",
       "3     Fish\n",
       "dtype: object"
      ]
     },
     "execution_count": 6,
     "metadata": {},
     "output_type": "execute_result"
    }
   ],
   "source": [
    "pd.Series(my_pets) #converting list into series objects with indexes"
   ]
  },
  {
   "cell_type": "code",
   "execution_count": 9,
   "id": "3ec92ebe",
   "metadata": {},
   "outputs": [],
   "source": [
    "my_days = ['Monday', 'Tuesday', 'Wednesday', 'Thursday', 'Friday']"
   ]
  },
  {
   "cell_type": "code",
   "execution_count": 10,
   "id": "8444ea90",
   "metadata": {},
   "outputs": [],
   "source": [
    "my_courses = ['Economics', 'Geography', 'Finance', 'Mathematics', 'History']"
   ]
  },
  {
   "cell_type": "code",
   "execution_count": 11,
   "id": "ccbebca2",
   "metadata": {},
   "outputs": [
    {
     "data": {
      "text/plain": [
       "0      Economics\n",
       "1      Geography\n",
       "2        Finance\n",
       "3    Mathematics\n",
       "4        History\n",
       "dtype: object"
      ]
     },
     "execution_count": 11,
     "metadata": {},
     "output_type": "execute_result"
    }
   ],
   "source": [
    "pd.Series(my_courses)"
   ]
  },
  {
   "cell_type": "code",
   "execution_count": 12,
   "id": "9710bd33",
   "metadata": {},
   "outputs": [
    {
     "data": {
      "text/plain": [
       "Monday         Economics\n",
       "Tuesday        Geography\n",
       "Wednesday        Finance\n",
       "Thursday     Mathematics\n",
       "Friday           History\n",
       "dtype: object"
      ]
     },
     "execution_count": 12,
     "metadata": {},
     "output_type": "execute_result"
    }
   ],
   "source": [
    "pd.Series(my_courses, index = my_days)"
   ]
  },
  {
   "cell_type": "code",
   "execution_count": 13,
   "id": "ad586f55",
   "metadata": {},
   "outputs": [],
   "source": [
    "my_days1 = ['Monday', 'Tuesday', 'Wednesday', 'Thursday', 'Friday', 'Saturday']"
   ]
  },
  {
   "cell_type": "code",
   "execution_count": 14,
   "id": "40295ed7",
   "metadata": {},
   "outputs": [
    {
     "ename": "ValueError",
     "evalue": "Length of values (5) does not match length of index (6)",
     "output_type": "error",
     "traceback": [
      "\u001b[1;31m---------------------------------------------------------------------------\u001b[0m",
      "\u001b[1;31mValueError\u001b[0m                                Traceback (most recent call last)",
      "\u001b[1;32m~\\AppData\\Local\\Temp\\ipykernel_18740\\3485029438.py\u001b[0m in \u001b[0;36m<module>\u001b[1;34m\u001b[0m\n\u001b[1;32m----> 1\u001b[1;33m \u001b[0mpd\u001b[0m\u001b[1;33m.\u001b[0m\u001b[0mSeries\u001b[0m\u001b[1;33m(\u001b[0m\u001b[0mmy_courses\u001b[0m\u001b[1;33m,\u001b[0m \u001b[0mindex\u001b[0m \u001b[1;33m=\u001b[0m \u001b[0mmy_days1\u001b[0m\u001b[1;33m)\u001b[0m\u001b[1;33m\u001b[0m\u001b[1;33m\u001b[0m\u001b[0m\n\u001b[0m",
      "\u001b[1;32mD:\\anaconda\\conda\\lib\\site-packages\\pandas\\core\\series.py\u001b[0m in \u001b[0;36m__init__\u001b[1;34m(self, data, index, dtype, name, copy, fastpath)\u001b[0m\n\u001b[0;32m    440\u001b[0m                 \u001b[0mindex\u001b[0m \u001b[1;33m=\u001b[0m \u001b[0mdefault_index\u001b[0m\u001b[1;33m(\u001b[0m\u001b[0mlen\u001b[0m\u001b[1;33m(\u001b[0m\u001b[0mdata\u001b[0m\u001b[1;33m)\u001b[0m\u001b[1;33m)\u001b[0m\u001b[1;33m\u001b[0m\u001b[1;33m\u001b[0m\u001b[0m\n\u001b[0;32m    441\u001b[0m             \u001b[1;32melif\u001b[0m \u001b[0mis_list_like\u001b[0m\u001b[1;33m(\u001b[0m\u001b[0mdata\u001b[0m\u001b[1;33m)\u001b[0m\u001b[1;33m:\u001b[0m\u001b[1;33m\u001b[0m\u001b[1;33m\u001b[0m\u001b[0m\n\u001b[1;32m--> 442\u001b[1;33m                 \u001b[0mcom\u001b[0m\u001b[1;33m.\u001b[0m\u001b[0mrequire_length_match\u001b[0m\u001b[1;33m(\u001b[0m\u001b[0mdata\u001b[0m\u001b[1;33m,\u001b[0m \u001b[0mindex\u001b[0m\u001b[1;33m)\u001b[0m\u001b[1;33m\u001b[0m\u001b[1;33m\u001b[0m\u001b[0m\n\u001b[0m\u001b[0;32m    443\u001b[0m \u001b[1;33m\u001b[0m\u001b[0m\n\u001b[0;32m    444\u001b[0m             \u001b[1;31m# create/copy the manager\u001b[0m\u001b[1;33m\u001b[0m\u001b[1;33m\u001b[0m\u001b[0m\n",
      "\u001b[1;32mD:\\anaconda\\conda\\lib\\site-packages\\pandas\\core\\common.py\u001b[0m in \u001b[0;36mrequire_length_match\u001b[1;34m(data, index)\u001b[0m\n\u001b[0;32m    555\u001b[0m     \"\"\"\n\u001b[0;32m    556\u001b[0m     \u001b[1;32mif\u001b[0m \u001b[0mlen\u001b[0m\u001b[1;33m(\u001b[0m\u001b[0mdata\u001b[0m\u001b[1;33m)\u001b[0m \u001b[1;33m!=\u001b[0m \u001b[0mlen\u001b[0m\u001b[1;33m(\u001b[0m\u001b[0mindex\u001b[0m\u001b[1;33m)\u001b[0m\u001b[1;33m:\u001b[0m\u001b[1;33m\u001b[0m\u001b[1;33m\u001b[0m\u001b[0m\n\u001b[1;32m--> 557\u001b[1;33m         raise ValueError(\n\u001b[0m\u001b[0;32m    558\u001b[0m             \u001b[1;34m\"Length of values \"\u001b[0m\u001b[1;33m\u001b[0m\u001b[1;33m\u001b[0m\u001b[0m\n\u001b[0;32m    559\u001b[0m             \u001b[1;34mf\"({len(data)}) \"\u001b[0m\u001b[1;33m\u001b[0m\u001b[1;33m\u001b[0m\u001b[0m\n",
      "\u001b[1;31mValueError\u001b[0m: Length of values (5) does not match length of index (6)"
     ]
    }
   ],
   "source": [
    "pd.Series(my_courses, index = my_days1) #error because of the different length"
   ]
  },
  {
   "cell_type": "code",
   "execution_count": 16,
   "id": "91c17cb7",
   "metadata": {},
   "outputs": [
    {
     "data": {
      "text/plain": [
       "Day1       Monday\n",
       "Day2      Tuesday\n",
       "Day3    Wednesday\n",
       "Day4     Thursday\n",
       "Day5       Friday\n",
       "dtype: object"
      ]
     },
     "execution_count": 16,
     "metadata": {},
     "output_type": "execute_result"
    }
   ],
   "source": [
    "days = pd.Series(['Monday', 'Tuesday', 'Wednesday', 'Thursday', 'Friday'], index = ['Day1', 'Day2', 'Day3', 'Day4', 'Day5'])\n",
    "days"
   ]
  },
  {
   "cell_type": "code",
   "execution_count": 18,
   "id": "c436fca3",
   "metadata": {},
   "outputs": [
    {
     "data": {
      "text/plain": [
       "Day1      Economics\n",
       "Day2      Geography\n",
       "Day3        Finance\n",
       "Day4    Mathematics\n",
       "Day5        History\n",
       "dtype: object"
      ]
     },
     "execution_count": 18,
     "metadata": {},
     "output_type": "execute_result"
    }
   ],
   "source": [
    "courses = pd.Series(['Economics', 'Geography', 'Finance', 'Mathematics', 'History'], index = 'Day1 Day2 Day3 Day4 Day5'.split(' '))\n",
    "courses"
   ]
  },
  {
   "cell_type": "code",
   "execution_count": 20,
   "id": "f0b6603d",
   "metadata": {},
   "outputs": [
    {
     "data": {
      "text/plain": [
       "Day1      Economics\n",
       "Day2      Geography\n",
       "Day3        Finance\n",
       "Day4    Mathematics\n",
       "Day5        History\n",
       "dtype: object"
      ]
     },
     "execution_count": 20,
     "metadata": {},
     "output_type": "execute_result"
    }
   ],
   "source": [
    "courses2 = pd.Series(['Economics', 'Geography', 'Finance', 'Mathematics', 'History'], index = 'Day1,Day2,Day3,Day4,Day5'.split(','))\n",
    "courses2"
   ]
  },
  {
   "cell_type": "code",
   "execution_count": 21,
   "id": "efb1cb5c",
   "metadata": {},
   "outputs": [
    {
     "data": {
      "text/plain": [
       "Day1        MondayEconomics\n",
       "Day2       TuesdayGeography\n",
       "Day3       WednesdayFinance\n",
       "Day4    ThursdayMathematics\n",
       "Day5          FridayHistory\n",
       "dtype: object"
      ]
     },
     "execution_count": 21,
     "metadata": {},
     "output_type": "execute_result"
    }
   ],
   "source": [
    "days + courses #addition based on index"
   ]
  },
  {
   "cell_type": "code",
   "execution_count": 22,
   "id": "ca23a5ab",
   "metadata": {},
   "outputs": [
    {
     "data": {
      "text/plain": [
       "Day1        Monday Economics\n",
       "Day2       Tuesday Geography\n",
       "Day3       Wednesday Finance\n",
       "Day4    Thursday Mathematics\n",
       "Day5          Friday History\n",
       "dtype: object"
      ]
     },
     "execution_count": 22,
     "metadata": {},
     "output_type": "execute_result"
    }
   ],
   "source": [
    "days + ' ' + courses"
   ]
  },
  {
   "cell_type": "code",
   "execution_count": 23,
   "id": "7668c3d3",
   "metadata": {},
   "outputs": [
    {
     "data": {
      "text/plain": [
       "Day1      Economics\n",
       "Day2      Geography\n",
       "Day3        Finance\n",
       "Day4    Mathematics\n",
       "Day5        History\n",
       "dtype: object"
      ]
     },
     "execution_count": 23,
     "metadata": {},
     "output_type": "execute_result"
    }
   ],
   "source": [
    "courses"
   ]
  },
  {
   "cell_type": "code",
   "execution_count": 24,
   "id": "8fc54e2d",
   "metadata": {},
   "outputs": [
    {
     "data": {
      "text/plain": [
       "'History'"
      ]
     },
     "execution_count": 24,
     "metadata": {},
     "output_type": "execute_result"
    }
   ],
   "source": [
    "courses['Day5']"
   ]
  },
  {
   "cell_type": "code",
   "execution_count": 26,
   "id": "849d3c0e",
   "metadata": {},
   "outputs": [
    {
     "data": {
      "text/plain": [
       "Day1       Monday\n",
       "Day2      Tuesday\n",
       "Day3    Wednesday\n",
       "Day4     Thursday\n",
       "Day5       Friday\n",
       "dtype: object"
      ]
     },
     "execution_count": 26,
     "metadata": {},
     "output_type": "execute_result"
    }
   ],
   "source": [
    "days"
   ]
  },
  {
   "cell_type": "code",
   "execution_count": 27,
   "id": "068bff81",
   "metadata": {},
   "outputs": [
    {
     "data": {
      "text/plain": [
       "'Wednesday'"
      ]
     },
     "execution_count": 27,
     "metadata": {},
     "output_type": "execute_result"
    }
   ],
   "source": [
    "days['Day3']"
   ]
  },
  {
   "cell_type": "markdown",
   "id": "9cce5b11",
   "metadata": {},
   "source": [
    "## loc and iloc"
   ]
  },
  {
   "cell_type": "code",
   "execution_count": 28,
   "id": "e4e155c4",
   "metadata": {},
   "outputs": [
    {
     "data": {
      "text/plain": [
       "Football      Spain\n",
       "NBA             USA\n",
       "Cricket       India\n",
       "Athelets    Jamaica\n",
       "dtype: object"
      ]
     },
     "execution_count": 28,
     "metadata": {},
     "output_type": "execute_result"
    }
   ],
   "source": [
    "#creating a dictionary\n",
    "\n",
    "sports = {'Football': 'Spain',\n",
    "          'NBA': 'USA',\n",
    "          'Cricket': 'India',\n",
    "          'Athelets': 'Jamaica'}\n",
    "\n",
    "sports_series = pd.Series(sports)\n",
    "sports_series"
   ]
  },
  {
   "cell_type": "code",
   "execution_count": 29,
   "id": "b8d096d9",
   "metadata": {},
   "outputs": [
    {
     "data": {
      "text/plain": [
       "'India'"
      ]
     },
     "execution_count": 29,
     "metadata": {},
     "output_type": "execute_result"
    }
   ],
   "source": [
    "sports_series.loc['Cricket']"
   ]
  },
  {
   "cell_type": "code",
   "execution_count": 30,
   "id": "03574bbe",
   "metadata": {},
   "outputs": [
    {
     "data": {
      "text/plain": [
       "'India'"
      ]
     },
     "execution_count": 30,
     "metadata": {},
     "output_type": "execute_result"
    }
   ],
   "source": [
    "sports_series.iloc[2]"
   ]
  },
  {
   "cell_type": "code",
   "execution_count": 31,
   "id": "08aaf353",
   "metadata": {},
   "outputs": [
    {
     "data": {
      "text/plain": [
       "'Jamaica'"
      ]
     },
     "execution_count": 31,
     "metadata": {},
     "output_type": "execute_result"
    }
   ],
   "source": [
    "sports_series.iloc[3]"
   ]
  },
  {
   "cell_type": "code",
   "execution_count": null,
   "id": "0910ffc0",
   "metadata": {},
   "outputs": [],
   "source": []
  }
 ],
 "metadata": {
  "kernelspec": {
   "display_name": "Python 3 (ipykernel)",
   "language": "python",
   "name": "python3"
  },
  "language_info": {
   "codemirror_mode": {
    "name": "ipython",
    "version": 3
   },
   "file_extension": ".py",
   "mimetype": "text/x-python",
   "name": "python",
   "nbconvert_exporter": "python",
   "pygments_lexer": "ipython3",
   "version": "3.9.13"
  }
 },
 "nbformat": 4,
 "nbformat_minor": 5
}
