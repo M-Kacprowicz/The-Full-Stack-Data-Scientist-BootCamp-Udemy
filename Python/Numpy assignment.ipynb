{
 "cells": [
  {
   "cell_type": "code",
   "execution_count": 2,
   "id": "4a10131a",
   "metadata": {},
   "outputs": [],
   "source": [
    "import numpy as np"
   ]
  },
  {
   "cell_type": "code",
   "execution_count": 3,
   "id": "061eb172",
   "metadata": {},
   "outputs": [
    {
     "data": {
      "text/plain": [
       "array([15, 16, 17, 18, 19, 20, 21, 22, 23, 24, 25, 26, 27, 28, 29, 30, 31,\n",
       "       32, 33, 34, 35, 36, 37, 38, 39])"
      ]
     },
     "execution_count": 3,
     "metadata": {},
     "output_type": "execute_result"
    }
   ],
   "source": [
    "array1 = np.arange(15, 40)\n",
    "array1"
   ]
  },
  {
   "cell_type": "code",
   "execution_count": 4,
   "id": "063ffa29",
   "metadata": {},
   "outputs": [
    {
     "data": {
      "text/plain": [
       "array([10, 11, 12, 13, 14, 15, 16, 17, 18, 19, 20, 21, 22, 23, 24])"
      ]
     },
     "execution_count": 4,
     "metadata": {},
     "output_type": "execute_result"
    }
   ],
   "source": [
    "array2 = np.arange(10, 25)\n",
    "array2"
   ]
  },
  {
   "cell_type": "markdown",
   "id": "2866fe83",
   "metadata": {},
   "source": [
    "Different integers and different size"
   ]
  },
  {
   "cell_type": "code",
   "execution_count": 5,
   "id": "e23b10aa",
   "metadata": {},
   "outputs": [
    {
     "data": {
      "text/plain": [
       "array([ 2,  4,  6,  8, 10, 12, 14, 16, 18])"
      ]
     },
     "execution_count": 5,
     "metadata": {},
     "output_type": "execute_result"
    }
   ],
   "source": [
    "even_array1 = np.arange(2, 20, 2)\n",
    "even_array1"
   ]
  },
  {
   "cell_type": "code",
   "execution_count": 6,
   "id": "e7cbc3ca",
   "metadata": {},
   "outputs": [
    {
     "data": {
      "text/plain": [
       "array([34, 36, 38, 40])"
      ]
     },
     "execution_count": 6,
     "metadata": {},
     "output_type": "execute_result"
    }
   ],
   "source": [
    "even_array2 = np.arange(34, 42, 2)\n",
    "even_array2"
   ]
  },
  {
   "cell_type": "code",
   "execution_count": 7,
   "id": "95d0a0cb",
   "metadata": {},
   "outputs": [
    {
     "data": {
      "text/plain": [
       "array([[ 0,  1,  2,  3,  4,  5],\n",
       "       [ 6,  7,  8,  9, 10, 11],\n",
       "       [12, 13, 14, 15, 16, 17],\n",
       "       [18, 19, 20, 21, 22, 23],\n",
       "       [24, 25, 26, 27, 28, 29],\n",
       "       [30, 31, 32, 33, 34, 35]])"
      ]
     },
     "execution_count": 7,
     "metadata": {},
     "output_type": "execute_result"
    }
   ],
   "source": [
    "matrix1 = np.arange(0,36)\n",
    "matrix1.resize(6,6)\n",
    "matrix1"
   ]
  },
  {
   "cell_type": "code",
   "execution_count": 8,
   "id": "b1e85149",
   "metadata": {},
   "outputs": [
    {
     "data": {
      "text/plain": [
       "13"
      ]
     },
     "execution_count": 8,
     "metadata": {},
     "output_type": "execute_result"
    }
   ],
   "source": [
    "matrix1[2,1]"
   ]
  },
  {
   "cell_type": "code",
   "execution_count": 9,
   "id": "a37198e7",
   "metadata": {},
   "outputs": [
    {
     "data": {
      "text/plain": [
       "array([[ 0.39922488, -0.87823574],\n",
       "       [-0.29029323, -0.0546648 ],\n",
       "       [ 0.32066291, -0.08927648],\n",
       "       [-0.67779422, -0.09023386],\n",
       "       [ 1.6692896 , -0.99499717]])"
      ]
     },
     "execution_count": 9,
     "metadata": {},
     "output_type": "execute_result"
    }
   ],
   "source": [
    "matrix2 = np.random.randn(5,2)\n",
    "matrix2"
   ]
  },
  {
   "cell_type": "code",
   "execution_count": 10,
   "id": "e652e084",
   "metadata": {},
   "outputs": [
    {
     "data": {
      "text/plain": [
       "-0.9949971726406037"
      ]
     },
     "execution_count": 10,
     "metadata": {},
     "output_type": "execute_result"
    }
   ],
   "source": [
    "matrix2[-1,-1]"
   ]
  },
  {
   "cell_type": "code",
   "execution_count": 11,
   "id": "20463177",
   "metadata": {},
   "outputs": [
    {
     "data": {
      "text/plain": [
       "-0.9949971726406037"
      ]
     },
     "execution_count": 11,
     "metadata": {},
     "output_type": "execute_result"
    }
   ],
   "source": [
    "np.min(matrix2)"
   ]
  },
  {
   "cell_type": "code",
   "execution_count": 12,
   "id": "3fa6c313",
   "metadata": {},
   "outputs": [
    {
     "data": {
      "text/plain": [
       "1.6692895980347227"
      ]
     },
     "execution_count": 12,
     "metadata": {},
     "output_type": "execute_result"
    }
   ],
   "source": [
    "np.max(matrix2)"
   ]
  },
  {
   "cell_type": "code",
   "execution_count": 13,
   "id": "e38635e7",
   "metadata": {},
   "outputs": [
    {
     "data": {
      "text/plain": [
       "0.7297755090750182"
      ]
     },
     "execution_count": 13,
     "metadata": {},
     "output_type": "execute_result"
    }
   ],
   "source": [
    "np.std(matrix2)"
   ]
  },
  {
   "cell_type": "code",
   "execution_count": 14,
   "id": "b0841066",
   "metadata": {},
   "outputs": [
    {
     "data": {
      "text/plain": [
       "0.532572293645702"
      ]
     },
     "execution_count": 14,
     "metadata": {},
     "output_type": "execute_result"
    }
   ],
   "source": [
    "np.var(matrix2)"
   ]
  },
  {
   "cell_type": "code",
   "execution_count": 15,
   "id": "d059f145",
   "metadata": {},
   "outputs": [
    {
     "data": {
      "text/plain": [
       "-0.06863181206620199"
      ]
     },
     "execution_count": 15,
     "metadata": {},
     "output_type": "execute_result"
    }
   ],
   "source": [
    "np.mean(matrix2)"
   ]
  },
  {
   "cell_type": "code",
   "execution_count": null,
   "id": "403b357b",
   "metadata": {},
   "outputs": [],
   "source": []
  }
 ],
 "metadata": {
  "kernelspec": {
   "display_name": "Python 3 (ipykernel)",
   "language": "python",
   "name": "python3"
  },
  "language_info": {
   "codemirror_mode": {
    "name": "ipython",
    "version": 3
   },
   "file_extension": ".py",
   "mimetype": "text/x-python",
   "name": "python",
   "nbconvert_exporter": "python",
   "pygments_lexer": "ipython3",
   "version": "3.9.13"
  }
 },
 "nbformat": 4,
 "nbformat_minor": 5
}
